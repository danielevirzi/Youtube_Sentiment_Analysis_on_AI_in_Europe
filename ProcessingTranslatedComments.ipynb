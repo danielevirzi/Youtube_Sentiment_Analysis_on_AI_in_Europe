{
 "cells": [
  {
   "cell_type": "code",
   "execution_count": 8,
   "metadata": {},
   "outputs": [],
   "source": [
    "from nltk.corpus import stopwords\n",
    "import pandas as pd \n",
    "import regex as re\n"
   ]
  },
  {
   "cell_type": "code",
   "execution_count": 10,
   "metadata": {},
   "outputs": [],
   "source": [
    "# After translation, we still have to process the comments into the correct format ; i.e. the same we used on the english comments when we labelled them.\n",
    "# In particular, we still have to\n",
    "# remove stopwords\n",
    "# Remove all special characters except for ., ,, ?, !, /, (, and )\n",
    "# Remove all special characters except for ., ,, ?, !, /, (, and )\n",
    "# # Replace ., /, (, and ) with whitespace\n",
    "language = 'french'\n",
    "\n",
    "comments = pd.read_csv('Comments DB/English/FINAL/labelled_translated/combined_original_under_90_french .csv')\n",
    "\n",
    "comments['Comment'] = comments['Comment'].apply(lambda x: ' '.join([word for word in x.split() if word not in (stopwords.words(language))]))\n",
    "\n",
    "pattern = r'[^a-zA-Z0-9\\s.,?!/()àâäéèêëîïôöùûüÿçÀÂÄÉÈÊËÎÏÔÖÙÛÜŸÇ]'\n",
    "# Apply the regex pattern to clean the comments\n",
    "comments['Comment'] = comments['Comment'].apply(lambda x: re.sub(pattern, '', x))\n",
    "\n",
    "# Replace ., /, (, and ) with whitespace\n",
    "comments['Comment'] = comments['Comment'].apply(lambda x: re.sub(r'[.,/()]', ' ', x))\n",
    "\n",
    "comments.to_csv('Comments DB/English/FINAL/labelled_translated/combined_processed_under_90_french.csv')\n"
   ]
  },
  {
   "cell_type": "code",
   "execution_count": 11,
   "metadata": {},
   "outputs": [],
   "source": [
    "language = 'german'\n",
    "\n",
    "comments = pd.read_csv('Comments DB/English/FINAL/labelled_translated/combined_original_under_90_german.csv')\n",
    "\n",
    "comments['Comment'] = comments['Comment'].apply(lambda x: ' '.join([word for word in x.split() if word not in (stopwords.words(language))]))\n",
    "\n",
    "\n",
    "pattern = r'[^a-zA-Z0-9\\s.,?!/()äöüßÄÖÜ]'\n",
    "\n",
    "# Apply the regex pattern to clean the comments\n",
    "comments['Comment'] = comments['Comment'].apply(lambda x: re.sub(pattern, '', x))\n",
    "\n",
    "# Replace ., /, (, and ) with whitespace\n",
    "comments['Comment'] = comments['Comment'].apply(lambda x: re.sub(r'[.,/()]', ' ', x))\n",
    "\n",
    "comments.to_csv('Comments DB/English/FINAL/labelled_translated/combined_processed_under_90_german.csv')"
   ]
  },
  {
   "cell_type": "code",
   "execution_count": 12,
   "metadata": {},
   "outputs": [],
   "source": [
    "language = 'spanish'\n",
    "\n",
    "comments = pd.read_csv('Comments DB/English/FINAL/labelled_translated/combined_original_under_90_spanish.csv')\n",
    "\n",
    "comments['Comment'] = comments['Comment'].apply(lambda x: ' '.join([word for word in x.split() if word not in (stopwords.words(language))]))\n",
    "\n",
    "pattern= r'[^a-zA-Z0-9\\s.,?!/()áéíóúñÁÉÍÓÚÑ]'\n",
    "\n",
    "# Apply the regex pattern to clean the comments\n",
    "comments['Comment'] = comments['Comment'].apply(lambda x: re.sub(pattern, '', x))\n",
    "\n",
    "# Replace ., /, (, and ) with whitespace\n",
    "comments['Comment'] = comments['Comment'].apply(lambda x: re.sub(r'[.,/()]', ' ', x))\n",
    "\n",
    "comments.to_csv('Comments DB/English/FINAL/labelled_translated/combined_processed_under_90_spanish.csv')"
   ]
  },
  {
   "cell_type": "code",
   "execution_count": 13,
   "metadata": {},
   "outputs": [],
   "source": [
    "language = 'italian'\n",
    "\n",
    "comments = pd.read_csv('Comments DB/English/FINAL/labelled_translated/combined_original_under_90_italian.csv')\n",
    "\n",
    "comments['Comment'] = comments['Comment'].apply(lambda x: ' '.join([word for word in x.split() if word not in (stopwords.words(language))]))\n",
    "\n",
    "pattern= r'[^a-zA-Z0-9\\s.,?!/()àèéìòùÀÈÉÌÒÙ]'\n",
    "\n",
    "# Apply the regex pattern to clean the comments\n",
    "comments['Comment'] = comments['Comment'].apply(lambda x: re.sub(pattern, '', x))\n",
    "\n",
    "# Replace ., /, (, and ) with whitespace\n",
    "comments['Comment'] = comments['Comment'].apply(lambda x: re.sub(r'[.,/()]', ' ', x))\n",
    "\n",
    "comments.to_csv('Comments DB/English/FINAL/labelled_translated/combined_processed_under_90_italian.csv')\n",
    "\n"
   ]
  }
 ],
 "metadata": {
  "kernelspec": {
   "display_name": "Python 3",
   "language": "python",
   "name": "python3"
  },
  "language_info": {
   "codemirror_mode": {
    "name": "ipython",
    "version": 3
   },
   "file_extension": ".py",
   "mimetype": "text/x-python",
   "name": "python",
   "nbconvert_exporter": "python",
   "pygments_lexer": "ipython3",
   "version": "3.11.8"
  }
 },
 "nbformat": 4,
 "nbformat_minor": 2
}
