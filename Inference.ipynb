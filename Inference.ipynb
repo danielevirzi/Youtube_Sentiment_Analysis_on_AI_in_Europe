{
 "cells": [
  {
   "cell_type": "markdown",
   "metadata": {},
   "source": [
    "# Inference\n",
    "\n",
    "Here we build the inference on the 4 countries we want to analyze : Germany, Italy, Spain, France. In particular, we will use our fine-tuned models. We select only the comments our models are most confident in, i.e. over 90% for this part, as we want to make sure that we interpret on as less noise as possible, while simultaneously still having a good amount of comments to analyze."
   ]
  },
  {
   "cell_type": "code",
   "execution_count": 1,
   "metadata": {},
   "outputs": [],
   "source": [
    "import torch\n",
    "from transformers import BertTokenizer, BertForSequenceClassification, AutoModelForSequenceClassification, AutoTokenizer, pipeline\n",
    "import pandas as pd"
   ]
  },
  {
   "cell_type": "code",
   "execution_count": 7,
   "metadata": {},
   "outputs": [],
   "source": [
    "# GERMAN\n",
    "model_path = 'sentiment_model_finetuned_german'\n",
    "model = AutoModelForSequenceClassification.from_pretrained(model_path)\n",
    "tokenizer = AutoTokenizer.from_pretrained(model_path)\n",
    "\n",
    "# Load the data for inference\n",
    "inference_comments_df = pd.read_csv('Comments DB/german/Inference/german_combined_ready_for_inference.csv')\n",
    "inference_comments = inference_comments_df['Comment'].tolist()\n",
    "# Make sure the comments are strings\n",
    "inference_comments = [str(comment) for comment in inference_comments]\n",
    "\n",
    "inputs = tokenizer(inference_comments, return_tensors=\"pt\", padding='max_length', truncation=True, max_length=64)\n",
    "\n",
    "# Predict sentiment\n",
    "with torch.no_grad():\n",
    "    outputs = model(**inputs)\n",
    "\n",
    "# Apply softmax to get probabilities\n",
    "probabilities = torch.nn.functional.softmax(outputs.logits, dim=-1)\n",
    "\n",
    "# Define sentiment classes\n",
    "sentiment_classes = ['negative', 'neutral', 'positive']\n",
    "\n",
    "# Get predictions for each input text\n",
    "predicted_classes = probabilities.argmax(dim=1)\n",
    "\n",
    "# Get the highest probability for each input text (the score of the predicted class)\n",
    "score = probabilities.max(dim=1).values\n",
    "\n",
    "# Create dataframe with comments, the predicted sentiment and the scores\n",
    "inference_df = pd.DataFrame({'Comment': inference_comments, 'Sentiment': [sentiment_classes[p] for p in predicted_classes], 'Score': score.tolist()})\n",
    "\n",
    "# Only keep scores above 0.90\n",
    "inference_df = inference_df[inference_df['Score'] > 0.90]\n",
    "\n",
    "# Send to csv\n",
    "inference_df.to_csv('Comments DB/german/Inference/results/german_results.csv', index=True)\n",
    "\n",
    "\n"
   ]
  },
  {
   "cell_type": "code",
   "execution_count": null,
   "metadata": {},
   "outputs": [],
   "source": [
    "# SPANISH\n",
    "model_path = 'sentiment_model_finetuned_spanish'\n",
    "model = BertForSequenceClassification.from_pretrained(model_path)\n",
    "tokenizer = BertTokenizer.from_pretrained(model_path)\n",
    "# Load the data for inference\n",
    "inference_comments_df = pd.read_csv('Comments DB/spanish/Inference/spanish_combined_ready_for_inference.csv')\n",
    "inference_comments = inference_comments_df['Comment'].tolist()\n",
    "# Make sure the comments are strings\n",
    "inference_comments = [str(comment) for comment in inference_comments]\n",
    "inputs = tokenizer(inference_comments, return_tensors=\"pt\", padding='max_length', truncation=True, max_length=128)\n",
    "\n",
    "with torch.no_grad():\n",
    "    outputs = model(**inputs)\n",
    "\n",
    "logits = outputs.logits\n",
    "\n",
    "#probabilities = torch.softmax(logits, dim=1)\n",
    "# Apply softmax to get probabilities\n",
    "#predicted_classes = torch.argmax(logits, dim=1)\n",
    "probabilities = torch.nn.functional.softmax(outputs.logits, dim=-1)\n",
    "\n",
    "sentiment_classes = ['negative', 'positive']\n",
    "\n",
    "# Get predictions for each input text\n",
    "predicted_classes = probabilities.argmax(dim=1)\n",
    "\n",
    "# Get the highest probability for each input text (the score of the predicted class)\n",
    "score = probabilities.max(dim=1).values\n",
    "\n",
    "# Create dataframe with comments, the predicted sentiment and the scores\n",
    "inference_df = pd.DataFrame({'Comment': inference_comments, 'Sentiment': [sentiment_classes[p] for p in predicted_classes], 'Score': score.tolist()})\n",
    "\n",
    "# Only keep scores above 0.90\n",
    "inference_df = inference_df[inference_df['Score'] > 0.90]\n",
    "\n",
    "# Send to csv\n",
    "inference_df.to_csv('Comments DB/german/Inference/results/german_results.csv', index=True)\n"
   ]
  },
  {
   "cell_type": "code",
   "execution_count": null,
   "metadata": {},
   "outputs": [],
   "source": [
    "# FRENCH\n",
    "model_path = 'sentiment_model_finetuned_french'\n",
    "model=AutoModelForSequenceClassification.from_pretrained(model_path)\n",
    "tokenizer=AutoTokenizer.from_pretrained(model_path)\n",
    "analyzer = pipeline(\n",
    "task='text-classification', model=model, tokenizer=tokenizer)\n",
    "\n",
    "# Load the data for inference\n",
    "inference_comments_df = pd.read_csv('Comments DB/french/Inference/french_combined_ready_for_inference.csv')\n",
    "inference_comments = inference_comments_df['Comment'].tolist()\n",
    "# Make sure the comments are strings\n",
    "inference_comments = [str(comment) for comment in inference_comments]\n",
    "\n",
    "\n",
    "for text in inference_comments:\n",
    "    result = analyzer(text, return_all_scores=False)\n",
    "    print(result)\n"
   ]
  },
  {
   "cell_type": "code",
   "execution_count": null,
   "metadata": {},
   "outputs": [],
   "source": [
    "# ITALIAN\n",
    "model_path = 'sentiment_model_finetuned_italian'\n",
    "model=AutoModelForSequenceClassification.from_pretrained(model_path)\n",
    "tokenizer=AutoTokenizer.from_pretrained(model_path)\n",
    "analyzer = pipeline(\n",
    "task='text-classification', model=model, tokenizer=tokenizer)\n",
    "\n",
    "# Load the data for inference\n",
    "inference_comments_df = pd.read_csv('Comments DB/italian/Inference/italian_combined_ready_for_inference.csv')\n",
    "inference_comments = inference_comments_df['Comment'].tolist()\n",
    "# Make sure the comments are strings\n",
    "inference_comments = [str(comment) for comment in inference_comments]\n",
    "\n",
    "\n",
    "for text in inference_comments:\n",
    "    result = analyzer(text, return_all_scores=False)\n",
    "    print(result)"
   ]
  }
 ],
 "metadata": {
  "kernelspec": {
   "display_name": "Python 3",
   "language": "python",
   "name": "python3"
  },
  "language_info": {
   "codemirror_mode": {
    "name": "ipython",
    "version": 3
   },
   "file_extension": ".py",
   "mimetype": "text/x-python",
   "name": "python",
   "nbconvert_exporter": "python",
   "pygments_lexer": "ipython3",
   "version": "3.11.8"
  }
 },
 "nbformat": 4,
 "nbformat_minor": 2
}
