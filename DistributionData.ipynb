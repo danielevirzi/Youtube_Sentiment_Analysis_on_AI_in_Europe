{
 "cells": [
  {
   "cell_type": "code",
   "execution_count": 3,
   "metadata": {},
   "outputs": [],
   "source": [
    "import pandas as pd\n",
    "import numpy as np\n",
    "import glob \n",
    "\n"
   ]
  },
  {
   "cell_type": "code",
   "execution_count": 19,
   "metadata": {},
   "outputs": [],
   "source": [
    "\n",
    "all_english_comments_unlabelled = pd.read_csv('Comments DB/English/FINAL/zipped_cleaned_unlabelled/english_data_processed_unlabelled.csv')\n",
    "all_english_comments_original_unlabelled = pd.read_csv('Comments DB/English/FINAL/zipped_cleaned_unlabelled/english_data_original_unlabelled.csv')\n",
    "\n"
   ]
  },
  {
   "cell_type": "code",
   "execution_count": 20,
   "metadata": {},
   "outputs": [],
   "source": [
    "# Drop the 'Unnamed: 0' column if it exists\n",
    "if 'Unnamed: 0' in all_english_comments_unlabelled.columns:\n",
    "    all_english_comments_unlabelled = all_english_comments_unlabelled.drop(columns=['Unnamed: 0'])\n",
    "\n",
    "if 'Unnamed: 0' in all_english_comments_original_unlabelled.columns:\n",
    "    all_english_comments_original_unlabelled = all_english_comments_original_unlabelled.drop(columns=['Unnamed: 0'])"
   ]
  },
  {
   "cell_type": "code",
   "execution_count": 21,
   "metadata": {},
   "outputs": [],
   "source": [
    "# Split into 4 parts\n",
    "comments_processed_split = np.array_split(all_english_comments_unlabelled, 4)\n",
    "comments_original_split = np.array_split(all_english_comments_original_unlabelled, 4)\n",
    "\n",
    "for i in range(4):\n",
    "    # Reset index for each split dataframe\n",
    "    comments_processed_split[i] = comments_processed_split[i].reset_index(drop=True)\n",
    "    comments_original_split[i] = comments_original_split[i].reset_index(drop=True)\n",
    "    \n",
    "    # Save to CSV without the index column\n",
    "    comments_processed_split[i].to_csv(f'/Users/marlon/VS-Code-Projects/Youtube/Comments DB/English/FINAL/zipped_cleaned_unlabelled/splits/comments_processed_split_{i}.csv', index=False)\n",
    "    comments_original_split[i].to_csv(f'/Users/marlon/VS-Code-Projects/Youtube/Comments DB/English/FINAL/zipped_cleaned_unlabelled/splits/comments_original_split_{i}.csv', index=False)\n"
   ]
  },
  {
   "cell_type": "code",
   "execution_count": 42,
   "metadata": {},
   "outputs": [
    {
     "name": "stdout",
     "output_type": "stream",
     "text": [
      "Under 90 confidence\n",
      "419\n",
      "0    320\n",
      "2     99\n",
      "Name: Label, dtype: int64\n",
      "Between 90 and 95\n",
      "8524\n",
      "0    4423\n",
      "2    4101\n",
      "Name: Label, dtype: int64\n",
      "Over 95\n",
      "9396\n",
      "2    5687\n",
      "0    3709\n",
      "Name: Label, dtype: int64\n"
     ]
    }
   ],
   "source": [
    "path_original = 'Comments DB/English/FINAL/labelled/original'\n",
    "path_processed = 'Comments DB/English/FINAL/labelled/processed'\n",
    "\n",
    "csv_files = glob.glob(path_original + '/*.csv')\n",
    "\n",
    "df_list = [pd.read_csv(file) for file in csv_files]\n",
    "combined_df = pd.concat(df_list, ignore_index=True)\n",
    "\n",
    "\n",
    "# Count the unique values in the 'label' column\n",
    "#combined_df['Label'].value_counts()\n",
    "\n",
    "# Get only rows where label is under 90\n",
    "combined_df_under_90 = combined_df[combined_df['Score'] <= 0.90]\n",
    "\n",
    "print(\"Under 90 confidence\")\n",
    "print(len(combined_df_under_90))\n",
    "# Get how many labels are 0 and how many are 2 here\n",
    "print(combined_df_under_90['Label'].value_counts())\n",
    "\n",
    "print(\"Between 90 and 95\")\n",
    "combined_df_90_to_95 = combined_df[(combined_df['Score'] > 0.90) & (combined_df['Score'] <= 0.95)]\n",
    "print(len(combined_df_90_to_95))\n",
    "print(combined_df_90_to_95['Label'].value_counts())\n",
    "\n",
    "print(\"Over 95\")\n",
    "combined_df_95_to_100 = combined_df[combined_df['Score'] > 0.95]\n",
    "print(len(combined_df_95_to_100))\n",
    "print(combined_df_95_to_100['Label'].value_counts())\n",
    "\n",
    "\n",
    "#combined_df_under_90.to_csv('Comments DB/English/FINAL/labelled/combined_original_under_90.csv', index=False)\n"
   ]
  },
  {
   "cell_type": "code",
   "execution_count": 47,
   "metadata": {},
   "outputs": [
    {
     "name": "stderr",
     "output_type": "stream",
     "text": [
      "/var/folders/sk/0h9rz2217_3gnr24gbjgn6900000gn/T/ipykernel_3938/4138511674.py:2: SettingWithCopyWarning: \n",
      "A value is trying to be set on a copy of a slice from a DataFrame.\n",
      "Try using .loc[row_indexer,col_indexer] = value instead\n",
      "\n",
      "See the caveats in the documentation: https://pandas.pydata.org/pandas-docs/stable/user_guide/indexing.html#returning-a-view-versus-a-copy\n",
      "  combined_df_90_to_95['Comment'] = combined_df_90_to_95['Comment'].apply(lambda x: re.sub(r'\\d+', '', x))\n",
      "/var/folders/sk/0h9rz2217_3gnr24gbjgn6900000gn/T/ipykernel_3938/4138511674.py:3: SettingWithCopyWarning: \n",
      "A value is trying to be set on a copy of a slice from a DataFrame.\n",
      "Try using .loc[row_indexer,col_indexer] = value instead\n",
      "\n",
      "See the caveats in the documentation: https://pandas.pydata.org/pandas-docs/stable/user_guide/indexing.html#returning-a-view-versus-a-copy\n",
      "  combined_df_90_to_95['Comment'] = combined_df_90_to_95['Comment'].apply(lambda x: re.sub(r'@\\w+', '', x))\n",
      "/var/folders/sk/0h9rz2217_3gnr24gbjgn6900000gn/T/ipykernel_3938/4138511674.py:4: SettingWithCopyWarning: \n",
      "A value is trying to be set on a copy of a slice from a DataFrame.\n",
      "Try using .loc[row_indexer,col_indexer] = value instead\n",
      "\n",
      "See the caveats in the documentation: https://pandas.pydata.org/pandas-docs/stable/user_guide/indexing.html#returning-a-view-versus-a-copy\n",
      "  combined_df_90_to_95['Comment'] = combined_df_90_to_95['Comment'].apply(lambda x: re.sub(r'\\s+', ' ', x).strip())\n",
      "/var/folders/sk/0h9rz2217_3gnr24gbjgn6900000gn/T/ipykernel_3938/4138511674.py:8: SettingWithCopyWarning: \n",
      "A value is trying to be set on a copy of a slice from a DataFrame.\n",
      "Try using .loc[row_indexer,col_indexer] = value instead\n",
      "\n",
      "See the caveats in the documentation: https://pandas.pydata.org/pandas-docs/stable/user_guide/indexing.html#returning-a-view-versus-a-copy\n",
      "  combined_df_95_to_100['Comment'] = combined_df_95_to_100['Comment'].apply(lambda x: re.sub(r'\\d+', '', x))\n",
      "/var/folders/sk/0h9rz2217_3gnr24gbjgn6900000gn/T/ipykernel_3938/4138511674.py:9: SettingWithCopyWarning: \n",
      "A value is trying to be set on a copy of a slice from a DataFrame.\n",
      "Try using .loc[row_indexer,col_indexer] = value instead\n",
      "\n",
      "See the caveats in the documentation: https://pandas.pydata.org/pandas-docs/stable/user_guide/indexing.html#returning-a-view-versus-a-copy\n",
      "  combined_df_95_to_100['Comment'] = combined_df_95_to_100['Comment'].apply(lambda x: re.sub(r'@\\w+', '', x))\n",
      "/var/folders/sk/0h9rz2217_3gnr24gbjgn6900000gn/T/ipykernel_3938/4138511674.py:10: SettingWithCopyWarning: \n",
      "A value is trying to be set on a copy of a slice from a DataFrame.\n",
      "Try using .loc[row_indexer,col_indexer] = value instead\n",
      "\n",
      "See the caveats in the documentation: https://pandas.pydata.org/pandas-docs/stable/user_guide/indexing.html#returning-a-view-versus-a-copy\n",
      "  combined_df_95_to_100['Comment'] = combined_df_95_to_100['Comment'].apply(lambda x: re.sub(r'\\s+', ' ', x).strip())\n",
      "/var/folders/sk/0h9rz2217_3gnr24gbjgn6900000gn/T/ipykernel_3938/4138511674.py:14: SettingWithCopyWarning: \n",
      "A value is trying to be set on a copy of a slice from a DataFrame.\n",
      "Try using .loc[row_indexer,col_indexer] = value instead\n",
      "\n",
      "See the caveats in the documentation: https://pandas.pydata.org/pandas-docs/stable/user_guide/indexing.html#returning-a-view-versus-a-copy\n",
      "  combined_df_under_90['Comment'] = combined_df_under_90['Comment'].apply(lambda x: re.sub(r'\\d+', '', x))\n",
      "/var/folders/sk/0h9rz2217_3gnr24gbjgn6900000gn/T/ipykernel_3938/4138511674.py:15: SettingWithCopyWarning: \n",
      "A value is trying to be set on a copy of a slice from a DataFrame.\n",
      "Try using .loc[row_indexer,col_indexer] = value instead\n",
      "\n",
      "See the caveats in the documentation: https://pandas.pydata.org/pandas-docs/stable/user_guide/indexing.html#returning-a-view-versus-a-copy\n",
      "  combined_df_under_90['Comment'] = combined_df_under_90['Comment'].apply(lambda x: re.sub(r'@\\w+', '', x))\n",
      "/var/folders/sk/0h9rz2217_3gnr24gbjgn6900000gn/T/ipykernel_3938/4138511674.py:16: SettingWithCopyWarning: \n",
      "A value is trying to be set on a copy of a slice from a DataFrame.\n",
      "Try using .loc[row_indexer,col_indexer] = value instead\n",
      "\n",
      "See the caveats in the documentation: https://pandas.pydata.org/pandas-docs/stable/user_guide/indexing.html#returning-a-view-versus-a-copy\n",
      "  combined_df_under_90['Comment'] = combined_df_under_90['Comment'].apply(lambda x: re.sub(r'\\s+', ' ', x).strip())\n"
     ]
    }
   ],
   "source": [
    "import regex as re \n",
    "combined_df_90_to_95['Comment'] = combined_df_90_to_95['Comment'].apply(lambda x: re.sub(r'\\d+', '', x))\n",
    "combined_df_90_to_95['Comment'] = combined_df_90_to_95['Comment'].apply(lambda x: re.sub(r'@\\w+', '', x))\n",
    "combined_df_90_to_95['Comment'] = combined_df_90_to_95['Comment'].apply(lambda x: re.sub(r'\\s+', ' ', x).strip())\n",
    "\n",
    "combined_df_90_to_95.to_csv('Comments DB/English/FINAL/labelled/combined_original_90_to_95.csv', index=False)\n",
    "\n",
    "combined_df_95_to_100['Comment'] = combined_df_95_to_100['Comment'].apply(lambda x: re.sub(r'\\d+', '', x))\n",
    "combined_df_95_to_100['Comment'] = combined_df_95_to_100['Comment'].apply(lambda x: re.sub(r'@\\w+', '', x))\n",
    "combined_df_95_to_100['Comment'] = combined_df_95_to_100['Comment'].apply(lambda x: re.sub(r'\\s+', ' ', x).strip())\n",
    "\n",
    "combined_df_95_to_100.to_csv('Comments DB/English/FINAL/labelled/combined_original_95_to_100.csv', index=False)\n",
    "\n",
    "combined_df_under_90['Comment'] = combined_df_under_90['Comment'].apply(lambda x: re.sub(r'\\d+', '', x))\n",
    "combined_df_under_90['Comment'] = combined_df_under_90['Comment'].apply(lambda x: re.sub(r'@\\w+', '', x))\n",
    "combined_df_under_90['Comment'] = combined_df_under_90['Comment'].apply(lambda x: re.sub(r'\\s+', ' ', x).strip())\n",
    "\n",
    "combined_df_under_90.to_csv('Comments DB/English/FINAL/labelled/combined_original_under_90.csv', index=False)\n"
   ]
  },
  {
   "cell_type": "code",
   "execution_count": 59,
   "metadata": {},
   "outputs": [
    {
     "name": "stdout",
     "output_type": "stream",
     "text": [
      "object\n",
      "                                             Comment  Label     Score\n",
      "0  you guns all make great points, crying online ...      0  0.895451\n",
      "1  in more afraid of democrats than i am of some ...      0  0.865466\n",
      "2  now! this ai is great at firing out ai and oth...      0  0.882388\n",
      "3  100% the doom of humanity... just as the bible...      0  0.876592\n",
      "4  we are getting very close to the time the grea...      0  0.899060\n"
     ]
    }
   ],
   "source": [
    "combined_df_under_90 = pd.read_csv('Comments DB/English/FINAL/Filtered_Data_V2.csv')\n",
    "\n",
    "# Remove column 'Unnamed: 0'\n",
    "if 'Unnamed: 0' in combined_df_under_90.columns:\n",
    "    combined_df_under_90 = combined_df_under_90.drop(columns=['Unnamed: 0'])\n",
    "\n",
    "# Remove column 'Unnamed: 0.1'\n",
    "if 'Unnamed: 0.1' in combined_df_under_90.columns:\n",
    "    combined_df_under_90 = combined_df_under_90.drop(columns=['Unnamed: 0.1'])\n",
    "# Show the type of the column 'Score'\n",
    "print(combined_df_under_90['Score'].dtype)\n",
    "\n",
    "# Remove the part starting from E in the strings of the 'Score' column\n",
    "combined_df_under_90['Score'] = combined_df_under_90['Score'].str.replace(r'E.*', '', regex=True)\n",
    "# Change , to . \n",
    "combined_df_under_90['Score'] = combined_df_under_90['Score'].str.replace(',', '.')\n",
    "# Change the type of the 'Score' column to float\n",
    "combined_df_under_90['Score'] = combined_df_under_90['Score'].astype(float)\n",
    "# Divide by 10\n",
    "combined_df_under_90['Score'] = combined_df_under_90['Score'] / 10\n",
    "\n",
    "print(combined_df_under_90.head())\n",
    "\n",
    "# Save to CSV\n",
    "combined_df_under_90.to_csv('Comments DB/English/FINAL/labelled/processed/combined_original_under_90.csv', index=False)"
   ]
  },
  {
   "cell_type": "code",
   "execution_count": 3,
   "metadata": {},
   "outputs": [
    {
     "name": "stdout",
     "output_type": "stream",
     "text": [
      "2    22293\n",
      "0    20858\n",
      "Name: Label, dtype: int64\n"
     ]
    }
   ],
   "source": [
    "import pandas as pd \n",
    "a = pd.read_csv('Comments DB/English/FINAL/labelled_augmented/combined_original_90_to_95_augmented.csv')\n",
    "b = pd.read_csv('Comments DB/English/FINAL/labelled_augmented/combined_original_95_to_100_augmented.csv')\n",
    "c = pd.read_csv('Comments DB/English/FINAL/labelled_augmented/combined_original_under_90_augmented.csv')\n",
    "\n",
    "# concatenate the dataframes\n",
    "final = pd.concat([a, b, c], ignore_index=True)\n",
    "\n",
    "# count the labels\n",
    "print(final['Label'].value_counts())\n"
   ]
  }
 ],
 "metadata": {
  "kernelspec": {
   "display_name": "Python 3",
   "language": "python",
   "name": "python3"
  },
  "language_info": {
   "codemirror_mode": {
    "name": "ipython",
    "version": 3
   },
   "file_extension": ".py",
   "mimetype": "text/x-python",
   "name": "python",
   "nbconvert_exporter": "python",
   "pygments_lexer": "ipython3",
   "version": "3.11.8"
  }
 },
 "nbformat": 4,
 "nbformat_minor": 2
}
