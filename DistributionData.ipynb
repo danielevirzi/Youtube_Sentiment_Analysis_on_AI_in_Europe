{
 "cells": [
  {
   "cell_type": "markdown",
   "metadata": {},
   "source": [
    "# Distribution of Data\n",
    "\n",
    "This File is only used for the purpose of separating dataframes such that we could process multiple files at once as a team."
   ]
  },
  {
   "cell_type": "code",
   "execution_count": 3,
   "metadata": {},
   "outputs": [],
   "source": [
    "import pandas as pd\n",
    "import numpy as np\n",
    "import glob "
   ]
  },
  {
   "cell_type": "code",
   "execution_count": 19,
   "metadata": {},
   "outputs": [],
   "source": [
    "all_english_comments_unlabelled = pd.read_csv('Comments DB/english/ReadyForLabelling/english_processed_full_unlabelled.csv')\n",
    "all_english_comments_original_unlabelled = pd.read_csv('Comments DB/english/ReadyForLabelling/english_original_full_unlabelled.csv')"
   ]
  },
  {
   "cell_type": "code",
   "execution_count": 20,
   "metadata": {},
   "outputs": [],
   "source": [
    "# Drop the 'Unnamed: 0' column if it exists\n",
    "if 'Unnamed: 0' in all_english_comments_unlabelled.columns:\n",
    "    all_english_comments_unlabelled = all_english_comments_unlabelled.drop(columns=['Unnamed: 0'])\n",
    "\n",
    "if 'Unnamed: 0' in all_english_comments_original_unlabelled.columns:\n",
    "    all_english_comments_original_unlabelled = all_english_comments_original_unlabelled.drop(columns=['Unnamed: 0'])"
   ]
  },
  {
   "cell_type": "code",
   "execution_count": 21,
   "metadata": {},
   "outputs": [],
   "source": [
    "# Split into 4 parts\n",
    "comments_processed_split = np.array_split(all_english_comments_unlabelled, 4)\n",
    "comments_original_split = np.array_split(all_english_comments_original_unlabelled, 4)\n",
    "\n",
    "for i in range(4):\n",
    "    # Reset index for each split dataframe\n",
    "    comments_processed_split[i] = comments_processed_split[i].reset_index(drop=True)\n",
    "    comments_original_split[i] = comments_original_split[i].reset_index(drop=True)\n",
    "    \n",
    "    # Save to CSV without the index column\n",
    "    comments_processed_split[i].to_csv(f'Comments DB/english/ReadyForLabelling/Splits/comments_processed_split_{i}.csv', index=False)\n",
    "    comments_original_split[i].to_csv(f'Comments DB/english/ReadyForLabelling/Splits/comments_original_split_{i}.csv', index=False)\n"
   ]
  },
  {
   "cell_type": "code",
   "execution_count": null,
   "metadata": {},
   "outputs": [],
   "source": [
    "path_original = 'Comments DB/english/Labelled/Splits/original'\n",
    "\n",
    "csv_files = glob.glob(path_original + '/*.csv')\n",
    "\n",
    "df_list = [pd.read_csv(file) for file in csv_files]\n",
    "combined_df = pd.concat(df_list, ignore_index=True)\n",
    "\n",
    "# Get only rows where label is under 90\n",
    "combined_df_under_90 = combined_df[combined_df['Score'] <= 0.90]\n",
    "\n",
    "print(\"Under 90 confidence\")\n",
    "# Get how many labels are 0 and how many are 2 here\n",
    "print(combined_df_under_90['Label'].value_counts())\n",
    "\n",
    "print(\"Between 90 and 95\")\n",
    "combined_df_90_to_95 = combined_df[(combined_df['Score'] > 0.90) & (combined_df['Score'] <= 0.95)]\n",
    "print(combined_df_90_to_95['Label'].value_counts())\n",
    "\n",
    "print(\"Over 95\")\n",
    "combined_df_95_to_100 = combined_df[combined_df['Score'] > 0.95]\n",
    "print(combined_df_95_to_100['Label'].value_counts())"
   ]
  },
  {
   "cell_type": "code",
   "execution_count": 3,
   "metadata": {},
   "outputs": [
    {
     "name": "stdout",
     "output_type": "stream",
     "text": [
      "2    22293\n",
      "0    20858\n",
      "Name: Label, dtype: int64\n"
     ]
    }
   ],
   "source": [
    "# Checking how balanced our dataset is\n",
    "a = pd.read_csv('Comments DB/English/FINAL/labelled_augmented/combined_original_90_to_95_augmented.csv')\n",
    "b = pd.read_csv('Comments DB/English/FINAL/labelled_augmented/combined_original_95_to_100_augmented.csv')\n",
    "c = pd.read_csv('Comments DB/English/FINAL/labelled_augmented/combined_original_under_90_augmented.csv')\n",
    "\n",
    "# concatenate the dataframes\n",
    "final = pd.concat([a, b, c], ignore_index=True)\n",
    "\n",
    "# count the labels\n",
    "print(final['Label'].value_counts())\n"
   ]
  }
 ],
 "metadata": {
  "kernelspec": {
   "display_name": "Python 3",
   "language": "python",
   "name": "python3"
  },
  "language_info": {
   "codemirror_mode": {
    "name": "ipython",
    "version": 3
   },
   "file_extension": ".py",
   "mimetype": "text/x-python",
   "name": "python",
   "nbconvert_exporter": "python",
   "pygments_lexer": "ipython3",
   "version": "3.11.8"
  }
 },
 "nbformat": 4,
 "nbformat_minor": 2
}
