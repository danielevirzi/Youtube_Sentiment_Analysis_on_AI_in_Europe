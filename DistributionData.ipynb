{
 "cells": [
  {
   "cell_type": "code",
   "execution_count": 3,
   "metadata": {},
   "outputs": [],
   "source": [
    "import pandas as pd\n",
    "import numpy as np\n",
    "\n"
   ]
  },
  {
   "cell_type": "code",
   "execution_count": 19,
   "metadata": {},
   "outputs": [],
   "source": [
    "\n",
    "all_english_comments_unlabelled = pd.read_csv('Comments DB/English/FINAL/zipped_cleaned_unlabelled/english_data_processed_unlabelled.csv')\n",
    "all_english_comments_original_unlabelled = pd.read_csv('Comments DB/English/FINAL/zipped_cleaned_unlabelled/english_data_original_unlabelled.csv')\n",
    "\n"
   ]
  },
  {
   "cell_type": "code",
   "execution_count": 20,
   "metadata": {},
   "outputs": [],
   "source": [
    "# Drop the 'Unnamed: 0' column if it exists\n",
    "if 'Unnamed: 0' in all_english_comments_unlabelled.columns:\n",
    "    all_english_comments_unlabelled = all_english_comments_unlabelled.drop(columns=['Unnamed: 0'])\n",
    "\n",
    "if 'Unnamed: 0' in all_english_comments_original_unlabelled.columns:\n",
    "    all_english_comments_original_unlabelled = all_english_comments_original_unlabelled.drop(columns=['Unnamed: 0'])"
   ]
  },
  {
   "cell_type": "code",
   "execution_count": 21,
   "metadata": {},
   "outputs": [],
   "source": [
    "# Split into 4 parts\n",
    "comments_processed_split = np.array_split(all_english_comments_unlabelled, 4)\n",
    "comments_original_split = np.array_split(all_english_comments_original_unlabelled, 4)\n",
    "\n",
    "for i in range(4):\n",
    "    # Reset index for each split dataframe\n",
    "    comments_processed_split[i] = comments_processed_split[i].reset_index(drop=True)\n",
    "    comments_original_split[i] = comments_original_split[i].reset_index(drop=True)\n",
    "    \n",
    "    # Save to CSV without the index column\n",
    "    comments_processed_split[i].to_csv(f'/Users/marlon/VS-Code-Projects/Youtube/Comments DB/English/FINAL/zipped_cleaned_unlabelled/splits/comments_processed_split_{i}.csv', index=False)\n",
    "    comments_original_split[i].to_csv(f'/Users/marlon/VS-Code-Projects/Youtube/Comments DB/English/FINAL/zipped_cleaned_unlabelled/splits/comments_original_split_{i}.csv', index=False)\n"
   ]
  }
 ],
 "metadata": {
  "kernelspec": {
   "display_name": "Python 3",
   "language": "python",
   "name": "python3"
  },
  "language_info": {
   "codemirror_mode": {
    "name": "ipython",
    "version": 3
   },
   "file_extension": ".py",
   "mimetype": "text/x-python",
   "name": "python",
   "nbconvert_exporter": "python",
   "pygments_lexer": "ipython3",
   "version": "3.11.8"
  }
 },
 "nbformat": 4,
 "nbformat_minor": 2
}
