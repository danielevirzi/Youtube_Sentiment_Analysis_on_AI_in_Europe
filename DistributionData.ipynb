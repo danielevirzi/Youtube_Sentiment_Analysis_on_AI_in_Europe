{
 "cells": [
  {
   "cell_type": "code",
   "execution_count": 7,
   "metadata": {},
   "outputs": [],
   "source": [
    "import pandas as pd\n",
    "import numpy as np\n",
    "import glob\n",
    "\n"
   ]
  },
  {
   "cell_type": "code",
   "execution_count": 19,
   "metadata": {},
   "outputs": [],
   "source": [
    "# Load the dataset\n",
    "# For Mac users : do english_data/english_data/*.csv\n",
    "# For Windows users : do english_data/*.csv\n",
    "all_english_comments = sorted(glob.glob('/Users/marlon/VS-Code-Projects/Youtube/Comments DB/English/FINAL/english_data_processed/*.csv'))\n",
    "all_english_comments_original = sorted(glob.glob('/Users/marlon/VS-Code-Projects/Youtube/Comments DB/English/FINAL/english_data_original/*.csv'))"
   ]
  },
  {
   "cell_type": "code",
   "execution_count": 20,
   "metadata": {},
   "outputs": [],
   "source": [
    "# Read in the data\n",
    "\n",
    "# \n",
    "\n",
    "\n",
    "all_english_comments = pd.concat([pd.read_csv(f) for f in all_english_comments], ignore_index = True)\n",
    "all_english_comments_original = pd.concat([pd.read_csv(f) for f in all_english_comments_original], ignore_index = True)"
   ]
  },
  {
   "cell_type": "code",
   "execution_count": 21,
   "metadata": {},
   "outputs": [],
   "source": [
    "# Remove unneccessary column\n",
    "all_english_comments = all_english_comments.drop(columns = ['Unnamed: 0'])\n",
    "all_english_comments_original = all_english_comments_original.drop(columns = ['Unnamed: 0'])"
   ]
  },
  {
   "cell_type": "code",
   "execution_count": 23,
   "metadata": {},
   "outputs": [],
   "source": [
    "# Save the dataframes\n",
    "all_english_comments.to_csv('/Users/marlon/VS-Code-Projects/Youtube/Comments DB/English/FINAL/splits_initial/english_data_processed.csv')\n",
    "all_english_comments_original.to_csv('/Users/marlon/VS-Code-Projects/Youtube/Comments DB/English/FINAL/splits_initial/english_data_original.csv')\n"
   ]
  },
  {
   "cell_type": "code",
   "execution_count": 24,
   "metadata": {},
   "outputs": [],
   "source": [
    "# Split into 5 parts and save\n",
    "comments_processed_split = np.array_split(all_english_comments, 5)\n",
    "comments_original_split = np.array_split(all_english_comments_original, 5)\n",
    "\n",
    "for i in range(5):\n",
    "    comments_processed_split[i].to_csv('/Users/marlon/VS-Code-Projects/Youtube/Comments DB/English/FINAL/splits_initial/comments_processed_split_' + str(i) + '.csv', index=False)\n",
    "    comments_original_split[i].to_csv('/Users/marlon/VS-Code-Projects/Youtube/Comments DB/English/FINAL/splits_initial/comments_original_split_' + str(i) + '.csv', index=False)\n",
    "\n"
   ]
  }
 ],
 "metadata": {
  "kernelspec": {
   "display_name": "Python 3",
   "language": "python",
   "name": "python3"
  },
  "language_info": {
   "codemirror_mode": {
    "name": "ipython",
    "version": 3
   },
   "file_extension": ".py",
   "mimetype": "text/x-python",
   "name": "python",
   "nbconvert_exporter": "python",
   "pygments_lexer": "ipython3",
   "version": "3.11.8"
  }
 },
 "nbformat": 4,
 "nbformat_minor": 2
}
